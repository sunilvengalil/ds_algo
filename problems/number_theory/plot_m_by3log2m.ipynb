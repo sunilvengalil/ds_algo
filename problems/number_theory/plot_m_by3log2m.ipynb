{
 "cells": [
  {
   "cell_type": "code",
   "execution_count": 1,
   "metadata": {},
   "outputs": [
    {
     "name": "stdout",
     "output_type": "stream",
     "text": [
      "20 1.8072335378787785\n",
      "21 1.8728247049333777\n",
      "22 1.9378873795339333\n",
      "23 2.002450966992386\n",
      "24 2.06654213445863\n",
      "25 2.130185155294429\n",
      "26 2.193402200403413\n",
      "27 2.256213585950972\n",
      "28 2.3186379850523786\n",
      "29 2.380692609540113\n",
      "30 2.442393366759723\n",
      "31 2.503754995421705\n",
      "32 2.564791183802602\n",
      "33 2.6255146730013346\n",
      "34 2.685937347485024\n",
      "35 2.746070314777846\n",
      "36 2.80592397583772\n",
      "37 2.865508087414114\n",
      "38 2.924831817474404\n",
      "39 2.9839037946168965\n"
     ]
    }
   ],
   "source": [
    "import math\n",
    "for m in range(20, 40):\n",
    "    print(m, m/(3 * math.log(2 * m)))"
   ]
  },
  {
   "cell_type": "code",
   "execution_count": 38,
   "metadata": {},
   "outputs": [],
   "source": [
    "x = list(range(10000000,100000000000, 10000))\n",
    "y = [0] * len(x)\n",
    "for i, x1 in enumerate(x) :\n",
    "    y[i] = ((x1+1)* math.log(x1) - x1 * math.log(x1+1))/(math.log(x1+ 1) * math.log(x1))"
   ]
  },
  {
   "cell_type": "code",
   "execution_count": 39,
   "metadata": {},
   "outputs": [],
   "source": [
    "import matplotlib\n",
    "from matplotlib import pyplot as plt\n",
    "%matplotlib inline"
   ]
  },
  {
   "cell_type": "code",
   "execution_count": 40,
   "metadata": {},
   "outputs": [
    {
     "data": {
      "text/plain": [
       "[<matplotlib.lines.Line2D at 0x7f9284ec4250>]"
      ]
     },
     "execution_count": 40,
     "metadata": {},
     "output_type": "execute_result"
    },
    {
     "data": {
      "image/png": "[encoded data removed]",
      "text/plain": [
       "<Figure size 432x288 with 1 Axes>"
      ]
     },
     "metadata": {
      "needs_background": "light"
     },
     "output_type": "display_data"
    }
   ],
   "source": [
    "plt.plot(x,y)"
   ]
  },
  {
   "cell_type": "code",
   "execution_count": null,
   "metadata": {},
   "outputs": [],
   "source": []
  }
 ],
 "metadata": {
  "kernelspec": {
   "display_name": "Python 3",
   "language": "python",
   "name": "python3"
  },
  "language_info": {
   "codemirror_mode": {
    "name": "ipython",
    "version": 3
   },
   "file_extension": ".py",
   "mimetype": "text/x-python",
   "name": "python",
   "nbconvert_exporter": "python",
   "pygments_lexer": "ipython3",
   "version": "3.7.9"
  }
 },
 "nbformat": 4,
 "nbformat_minor": 4
}
